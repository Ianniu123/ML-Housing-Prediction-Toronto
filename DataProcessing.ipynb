{
 "cells": [
  {
   "cell_type": "code",
   "execution_count": 485,
   "id": "1668c8f0",
   "metadata": {},
   "outputs": [],
   "source": [
    "import pandas as pd\n",
    "from sklearn.linear_model import SGDRegressor\n",
    "from sklearn.preprocessing import OneHotEncoder\n",
    "from sklearn.model_selection import train_test_split\n",
    "import plotly.express as px\n",
    "import matplotlib.pyplot as plt\n",
    "from sklearn.metrics import explained_variance_score\n",
    "from sklearn.metrics import r2_score\n",
    "from xgboost import XGBRegressor\n",
    "%matplotlib inline"
   ]
  },
  {
   "cell_type": "markdown",
   "id": "1e429dbf",
   "metadata": {},
   "source": [
    "### Reading Data and Dropping Duplicates"
   ]
  },
  {
   "cell_type": "code",
   "execution_count": 486,
   "id": "a62c8486",
   "metadata": {},
   "outputs": [
    {
     "data": {
      "text/html": [
       "<div>\n",
       "<style scoped>\n",
       "    .dataframe tbody tr th:only-of-type {\n",
       "        vertical-align: middle;\n",
       "    }\n",
       "\n",
       "    .dataframe tbody tr th {\n",
       "        vertical-align: top;\n",
       "    }\n",
       "\n",
       "    .dataframe thead th {\n",
       "        text-align: right;\n",
       "    }\n",
       "</style>\n",
       "<table border=\"1\" class=\"dataframe\">\n",
       "  <thead>\n",
       "    <tr style=\"text-align: right;\">\n",
       "      <th></th>\n",
       "      <th></th>\n",
       "      <th>bathrooms</th>\n",
       "      <th>bedrooms</th>\n",
       "      <th>hometype</th>\n",
       "      <th>latitude</th>\n",
       "      <th>longitude</th>\n",
       "      <th>price</th>\n",
       "      <th>lotAreaValue</th>\n",
       "    </tr>\n",
       "  </thead>\n",
       "  <tbody>\n",
       "    <tr>\n",
       "      <th>0</th>\n",
       "      <td>0.0</td>\n",
       "      <td>7.0</td>\n",
       "      <td>7</td>\n",
       "      <td>SINGLE_FAMILY</td>\n",
       "      <td>43.685574</td>\n",
       "      <td>-79.448690</td>\n",
       "      <td>1849000</td>\n",
       "      <td>2506.2539</td>\n",
       "    </tr>\n",
       "    <tr>\n",
       "      <th>1</th>\n",
       "      <td>1.0</td>\n",
       "      <td>1.0</td>\n",
       "      <td>1</td>\n",
       "      <td>CONDO</td>\n",
       "      <td>43.618538</td>\n",
       "      <td>-79.485100</td>\n",
       "      <td>585000</td>\n",
       "      <td></td>\n",
       "    </tr>\n",
       "    <tr>\n",
       "      <th>2</th>\n",
       "      <td>2.0</td>\n",
       "      <td>1.0</td>\n",
       "      <td>2</td>\n",
       "      <td>CONDO</td>\n",
       "      <td>43.630337</td>\n",
       "      <td>-79.472730</td>\n",
       "      <td>794500</td>\n",
       "      <td></td>\n",
       "    </tr>\n",
       "    <tr>\n",
       "      <th>3</th>\n",
       "      <td>3.0</td>\n",
       "      <td>3.0</td>\n",
       "      <td>3</td>\n",
       "      <td>SINGLE_FAMILY</td>\n",
       "      <td>43.644554</td>\n",
       "      <td>-79.421234</td>\n",
       "      <td>3799000</td>\n",
       "      <td>2343.75</td>\n",
       "    </tr>\n",
       "    <tr>\n",
       "      <th>4</th>\n",
       "      <td>4.0</td>\n",
       "      <td>2.0</td>\n",
       "      <td>3</td>\n",
       "      <td>CONDO</td>\n",
       "      <td>43.722080</td>\n",
       "      <td>-79.543945</td>\n",
       "      <td>489999</td>\n",
       "      <td></td>\n",
       "    </tr>\n",
       "    <tr>\n",
       "      <th>...</th>\n",
       "      <td>...</td>\n",
       "      <td>...</td>\n",
       "      <td>...</td>\n",
       "      <td>...</td>\n",
       "      <td>...</td>\n",
       "      <td>...</td>\n",
       "      <td>...</td>\n",
       "      <td>...</td>\n",
       "    </tr>\n",
       "    <tr>\n",
       "      <th>814</th>\n",
       "      <td>NaN</td>\n",
       "      <td>1.0</td>\n",
       "      <td>2</td>\n",
       "      <td>CONDO</td>\n",
       "      <td>43.624832</td>\n",
       "      <td>-79.488785</td>\n",
       "      <td>599900</td>\n",
       "      <td>NaN</td>\n",
       "    </tr>\n",
       "    <tr>\n",
       "      <th>815</th>\n",
       "      <td>NaN</td>\n",
       "      <td>3.0</td>\n",
       "      <td>4</td>\n",
       "      <td>CONDO</td>\n",
       "      <td>43.629436</td>\n",
       "      <td>-79.477325</td>\n",
       "      <td>2989000</td>\n",
       "      <td>NaN</td>\n",
       "    </tr>\n",
       "    <tr>\n",
       "      <th>816</th>\n",
       "      <td>NaN</td>\n",
       "      <td>1.0</td>\n",
       "      <td>1</td>\n",
       "      <td>CONDO</td>\n",
       "      <td>43.627470</td>\n",
       "      <td>-79.477130</td>\n",
       "      <td>619000</td>\n",
       "      <td>NaN</td>\n",
       "    </tr>\n",
       "    <tr>\n",
       "      <th>817</th>\n",
       "      <td>NaN</td>\n",
       "      <td>2.0</td>\n",
       "      <td>2</td>\n",
       "      <td>CONDO</td>\n",
       "      <td>43.748512</td>\n",
       "      <td>-79.286070</td>\n",
       "      <td>649900</td>\n",
       "      <td>NaN</td>\n",
       "    </tr>\n",
       "    <tr>\n",
       "      <th>818</th>\n",
       "      <td>NaN</td>\n",
       "      <td>2.0</td>\n",
       "      <td>2</td>\n",
       "      <td>CONDO</td>\n",
       "      <td>43.665646</td>\n",
       "      <td>-79.385950</td>\n",
       "      <td>924888</td>\n",
       "      <td>NaN</td>\n",
       "    </tr>\n",
       "  </tbody>\n",
       "</table>\n",
       "<p>819 rows × 8 columns</p>\n",
       "</div>"
      ],
      "text/plain": [
       "          bathrooms bedrooms       hometype   latitude  longitude    price  \\\n",
       "0    0.0        7.0        7  SINGLE_FAMILY  43.685574 -79.448690  1849000   \n",
       "1    1.0        1.0        1          CONDO  43.618538 -79.485100   585000   \n",
       "2    2.0        1.0        2          CONDO  43.630337 -79.472730   794500   \n",
       "3    3.0        3.0        3  SINGLE_FAMILY  43.644554 -79.421234  3799000   \n",
       "4    4.0        2.0        3          CONDO  43.722080 -79.543945   489999   \n",
       "..   ...        ...      ...            ...        ...        ...      ...   \n",
       "814  NaN        1.0        2          CONDO  43.624832 -79.488785   599900   \n",
       "815  NaN        3.0        4          CONDO  43.629436 -79.477325  2989000   \n",
       "816  NaN        1.0        1          CONDO  43.627470 -79.477130   619000   \n",
       "817  NaN        2.0        2          CONDO  43.748512 -79.286070   649900   \n",
       "818  NaN        2.0        2          CONDO  43.665646 -79.385950   924888   \n",
       "\n",
       "    lotAreaValue  \n",
       "0      2506.2539  \n",
       "1                 \n",
       "2                 \n",
       "3        2343.75  \n",
       "4                 \n",
       "..           ...  \n",
       "814          NaN  \n",
       "815          NaN  \n",
       "816          NaN  \n",
       "817          NaN  \n",
       "818          NaN  \n",
       "\n",
       "[819 rows x 8 columns]"
      ]
     },
     "execution_count": 486,
     "metadata": {},
     "output_type": "execute_result"
    }
   ],
   "source": [
    "table = pd.read_json(\"modifiedData.json\")\n",
    "table.drop_duplicates(inplace=True, ignore_index=True)\n",
    "table.shape\n",
    "table"
   ]
  },
  {
   "cell_type": "markdown",
   "id": "86072756",
   "metadata": {},
   "source": [
    "### Applying One Hot Encoding to The Hometype Category"
   ]
  },
  {
   "cell_type": "code",
   "execution_count": 487,
   "id": "2f2eddda-8472-4bd0-933c-df2251518b78",
   "metadata": {},
   "outputs": [
    {
     "data": {
      "text/html": [
       "<div>\n",
       "<style scoped>\n",
       "    .dataframe tbody tr th:only-of-type {\n",
       "        vertical-align: middle;\n",
       "    }\n",
       "\n",
       "    .dataframe tbody tr th {\n",
       "        vertical-align: top;\n",
       "    }\n",
       "\n",
       "    .dataframe thead th {\n",
       "        text-align: right;\n",
       "    }\n",
       "</style>\n",
       "<table border=\"1\" class=\"dataframe\">\n",
       "  <thead>\n",
       "    <tr style=\"text-align: right;\">\n",
       "      <th></th>\n",
       "      <th></th>\n",
       "      <th>bathrooms</th>\n",
       "      <th>bedrooms</th>\n",
       "      <th>latitude</th>\n",
       "      <th>longitude</th>\n",
       "      <th>price</th>\n",
       "      <th>lotAreaValue</th>\n",
       "      <th>hometype_APARTMENT</th>\n",
       "      <th>hometype_CONDO</th>\n",
       "      <th>hometype_LOT</th>\n",
       "      <th>hometype_MULTI_FAMILY</th>\n",
       "      <th>hometype_SINGLE_FAMILY</th>\n",
       "      <th>hometype_TOWNHOUSE</th>\n",
       "    </tr>\n",
       "  </thead>\n",
       "  <tbody>\n",
       "    <tr>\n",
       "      <th>0</th>\n",
       "      <td>0.0</td>\n",
       "      <td>7.0</td>\n",
       "      <td>7</td>\n",
       "      <td>43.685574</td>\n",
       "      <td>-79.448690</td>\n",
       "      <td>1849000</td>\n",
       "      <td>2506.2539</td>\n",
       "      <td>0</td>\n",
       "      <td>0</td>\n",
       "      <td>0</td>\n",
       "      <td>0</td>\n",
       "      <td>1</td>\n",
       "      <td>0</td>\n",
       "    </tr>\n",
       "    <tr>\n",
       "      <th>1</th>\n",
       "      <td>1.0</td>\n",
       "      <td>1.0</td>\n",
       "      <td>1</td>\n",
       "      <td>43.618538</td>\n",
       "      <td>-79.485100</td>\n",
       "      <td>585000</td>\n",
       "      <td></td>\n",
       "      <td>0</td>\n",
       "      <td>1</td>\n",
       "      <td>0</td>\n",
       "      <td>0</td>\n",
       "      <td>0</td>\n",
       "      <td>0</td>\n",
       "    </tr>\n",
       "    <tr>\n",
       "      <th>2</th>\n",
       "      <td>2.0</td>\n",
       "      <td>1.0</td>\n",
       "      <td>2</td>\n",
       "      <td>43.630337</td>\n",
       "      <td>-79.472730</td>\n",
       "      <td>794500</td>\n",
       "      <td></td>\n",
       "      <td>0</td>\n",
       "      <td>1</td>\n",
       "      <td>0</td>\n",
       "      <td>0</td>\n",
       "      <td>0</td>\n",
       "      <td>0</td>\n",
       "    </tr>\n",
       "    <tr>\n",
       "      <th>3</th>\n",
       "      <td>3.0</td>\n",
       "      <td>3.0</td>\n",
       "      <td>3</td>\n",
       "      <td>43.644554</td>\n",
       "      <td>-79.421234</td>\n",
       "      <td>3799000</td>\n",
       "      <td>2343.75</td>\n",
       "      <td>0</td>\n",
       "      <td>0</td>\n",
       "      <td>0</td>\n",
       "      <td>0</td>\n",
       "      <td>1</td>\n",
       "      <td>0</td>\n",
       "    </tr>\n",
       "    <tr>\n",
       "      <th>4</th>\n",
       "      <td>4.0</td>\n",
       "      <td>2.0</td>\n",
       "      <td>3</td>\n",
       "      <td>43.722080</td>\n",
       "      <td>-79.543945</td>\n",
       "      <td>489999</td>\n",
       "      <td></td>\n",
       "      <td>0</td>\n",
       "      <td>1</td>\n",
       "      <td>0</td>\n",
       "      <td>0</td>\n",
       "      <td>0</td>\n",
       "      <td>0</td>\n",
       "    </tr>\n",
       "    <tr>\n",
       "      <th>...</th>\n",
       "      <td>...</td>\n",
       "      <td>...</td>\n",
       "      <td>...</td>\n",
       "      <td>...</td>\n",
       "      <td>...</td>\n",
       "      <td>...</td>\n",
       "      <td>...</td>\n",
       "      <td>...</td>\n",
       "      <td>...</td>\n",
       "      <td>...</td>\n",
       "      <td>...</td>\n",
       "      <td>...</td>\n",
       "      <td>...</td>\n",
       "    </tr>\n",
       "    <tr>\n",
       "      <th>814</th>\n",
       "      <td>NaN</td>\n",
       "      <td>1.0</td>\n",
       "      <td>2</td>\n",
       "      <td>43.624832</td>\n",
       "      <td>-79.488785</td>\n",
       "      <td>599900</td>\n",
       "      <td>NaN</td>\n",
       "      <td>0</td>\n",
       "      <td>1</td>\n",
       "      <td>0</td>\n",
       "      <td>0</td>\n",
       "      <td>0</td>\n",
       "      <td>0</td>\n",
       "    </tr>\n",
       "    <tr>\n",
       "      <th>815</th>\n",
       "      <td>NaN</td>\n",
       "      <td>3.0</td>\n",
       "      <td>4</td>\n",
       "      <td>43.629436</td>\n",
       "      <td>-79.477325</td>\n",
       "      <td>2989000</td>\n",
       "      <td>NaN</td>\n",
       "      <td>0</td>\n",
       "      <td>1</td>\n",
       "      <td>0</td>\n",
       "      <td>0</td>\n",
       "      <td>0</td>\n",
       "      <td>0</td>\n",
       "    </tr>\n",
       "    <tr>\n",
       "      <th>816</th>\n",
       "      <td>NaN</td>\n",
       "      <td>1.0</td>\n",
       "      <td>1</td>\n",
       "      <td>43.627470</td>\n",
       "      <td>-79.477130</td>\n",
       "      <td>619000</td>\n",
       "      <td>NaN</td>\n",
       "      <td>0</td>\n",
       "      <td>1</td>\n",
       "      <td>0</td>\n",
       "      <td>0</td>\n",
       "      <td>0</td>\n",
       "      <td>0</td>\n",
       "    </tr>\n",
       "    <tr>\n",
       "      <th>817</th>\n",
       "      <td>NaN</td>\n",
       "      <td>2.0</td>\n",
       "      <td>2</td>\n",
       "      <td>43.748512</td>\n",
       "      <td>-79.286070</td>\n",
       "      <td>649900</td>\n",
       "      <td>NaN</td>\n",
       "      <td>0</td>\n",
       "      <td>1</td>\n",
       "      <td>0</td>\n",
       "      <td>0</td>\n",
       "      <td>0</td>\n",
       "      <td>0</td>\n",
       "    </tr>\n",
       "    <tr>\n",
       "      <th>818</th>\n",
       "      <td>NaN</td>\n",
       "      <td>2.0</td>\n",
       "      <td>2</td>\n",
       "      <td>43.665646</td>\n",
       "      <td>-79.385950</td>\n",
       "      <td>924888</td>\n",
       "      <td>NaN</td>\n",
       "      <td>0</td>\n",
       "      <td>1</td>\n",
       "      <td>0</td>\n",
       "      <td>0</td>\n",
       "      <td>0</td>\n",
       "      <td>0</td>\n",
       "    </tr>\n",
       "  </tbody>\n",
       "</table>\n",
       "<p>819 rows × 13 columns</p>\n",
       "</div>"
      ],
      "text/plain": [
       "          bathrooms bedrooms   latitude  longitude    price lotAreaValue  \\\n",
       "0    0.0        7.0        7  43.685574 -79.448690  1849000    2506.2539   \n",
       "1    1.0        1.0        1  43.618538 -79.485100   585000                \n",
       "2    2.0        1.0        2  43.630337 -79.472730   794500                \n",
       "3    3.0        3.0        3  43.644554 -79.421234  3799000      2343.75   \n",
       "4    4.0        2.0        3  43.722080 -79.543945   489999                \n",
       "..   ...        ...      ...        ...        ...      ...          ...   \n",
       "814  NaN        1.0        2  43.624832 -79.488785   599900          NaN   \n",
       "815  NaN        3.0        4  43.629436 -79.477325  2989000          NaN   \n",
       "816  NaN        1.0        1  43.627470 -79.477130   619000          NaN   \n",
       "817  NaN        2.0        2  43.748512 -79.286070   649900          NaN   \n",
       "818  NaN        2.0        2  43.665646 -79.385950   924888          NaN   \n",
       "\n",
       "     hometype_APARTMENT  hometype_CONDO  hometype_LOT  hometype_MULTI_FAMILY  \\\n",
       "0                     0               0             0                      0   \n",
       "1                     0               1             0                      0   \n",
       "2                     0               1             0                      0   \n",
       "3                     0               0             0                      0   \n",
       "4                     0               1             0                      0   \n",
       "..                  ...             ...           ...                    ...   \n",
       "814                   0               1             0                      0   \n",
       "815                   0               1             0                      0   \n",
       "816                   0               1             0                      0   \n",
       "817                   0               1             0                      0   \n",
       "818                   0               1             0                      0   \n",
       "\n",
       "     hometype_SINGLE_FAMILY  hometype_TOWNHOUSE  \n",
       "0                         1                   0  \n",
       "1                         0                   0  \n",
       "2                         0                   0  \n",
       "3                         1                   0  \n",
       "4                         0                   0  \n",
       "..                      ...                 ...  \n",
       "814                       0                   0  \n",
       "815                       0                   0  \n",
       "816                       0                   0  \n",
       "817                       0                   0  \n",
       "818                       0                   0  \n",
       "\n",
       "[819 rows x 13 columns]"
      ]
     },
     "execution_count": 487,
     "metadata": {},
     "output_type": "execute_result"
    }
   ],
   "source": [
    "one_hot_encoded_data = pd.get_dummies(table, columns=['hometype'])\n",
    "one_hot_encoded_data"
   ]
  },
  {
   "cell_type": "code",
   "execution_count": 488,
   "id": "502ef99e",
   "metadata": {
    "scrolled": true
   },
   "outputs": [
    {
     "data": {
      "text/html": [
       "<div>\n",
       "<style scoped>\n",
       "    .dataframe tbody tr th:only-of-type {\n",
       "        vertical-align: middle;\n",
       "    }\n",
       "\n",
       "    .dataframe tbody tr th {\n",
       "        vertical-align: top;\n",
       "    }\n",
       "\n",
       "    .dataframe thead th {\n",
       "        text-align: right;\n",
       "    }\n",
       "</style>\n",
       "<table border=\"1\" class=\"dataframe\">\n",
       "  <thead>\n",
       "    <tr style=\"text-align: right;\">\n",
       "      <th></th>\n",
       "      <th></th>\n",
       "      <th>bathrooms</th>\n",
       "      <th>bedrooms</th>\n",
       "      <th>latitude</th>\n",
       "      <th>longitude</th>\n",
       "      <th>price</th>\n",
       "      <th>lotAreaValue</th>\n",
       "      <th>isApartment</th>\n",
       "      <th>isCondo</th>\n",
       "      <th>isLot</th>\n",
       "      <th>isMultiFamily</th>\n",
       "      <th>isSingleFamily</th>\n",
       "      <th>isTownHouse</th>\n",
       "    </tr>\n",
       "  </thead>\n",
       "  <tbody>\n",
       "    <tr>\n",
       "      <th>0</th>\n",
       "      <td>0.0</td>\n",
       "      <td>7.0</td>\n",
       "      <td>7</td>\n",
       "      <td>43.685574</td>\n",
       "      <td>-79.448690</td>\n",
       "      <td>1849000</td>\n",
       "      <td>2506.2539</td>\n",
       "      <td>0</td>\n",
       "      <td>0</td>\n",
       "      <td>0</td>\n",
       "      <td>0</td>\n",
       "      <td>1</td>\n",
       "      <td>0</td>\n",
       "    </tr>\n",
       "    <tr>\n",
       "      <th>1</th>\n",
       "      <td>1.0</td>\n",
       "      <td>1.0</td>\n",
       "      <td>1</td>\n",
       "      <td>43.618538</td>\n",
       "      <td>-79.485100</td>\n",
       "      <td>585000</td>\n",
       "      <td></td>\n",
       "      <td>0</td>\n",
       "      <td>1</td>\n",
       "      <td>0</td>\n",
       "      <td>0</td>\n",
       "      <td>0</td>\n",
       "      <td>0</td>\n",
       "    </tr>\n",
       "    <tr>\n",
       "      <th>2</th>\n",
       "      <td>2.0</td>\n",
       "      <td>1.0</td>\n",
       "      <td>2</td>\n",
       "      <td>43.630337</td>\n",
       "      <td>-79.472730</td>\n",
       "      <td>794500</td>\n",
       "      <td></td>\n",
       "      <td>0</td>\n",
       "      <td>1</td>\n",
       "      <td>0</td>\n",
       "      <td>0</td>\n",
       "      <td>0</td>\n",
       "      <td>0</td>\n",
       "    </tr>\n",
       "    <tr>\n",
       "      <th>3</th>\n",
       "      <td>3.0</td>\n",
       "      <td>3.0</td>\n",
       "      <td>3</td>\n",
       "      <td>43.644554</td>\n",
       "      <td>-79.421234</td>\n",
       "      <td>3799000</td>\n",
       "      <td>2343.75</td>\n",
       "      <td>0</td>\n",
       "      <td>0</td>\n",
       "      <td>0</td>\n",
       "      <td>0</td>\n",
       "      <td>1</td>\n",
       "      <td>0</td>\n",
       "    </tr>\n",
       "    <tr>\n",
       "      <th>4</th>\n",
       "      <td>4.0</td>\n",
       "      <td>2.0</td>\n",
       "      <td>3</td>\n",
       "      <td>43.722080</td>\n",
       "      <td>-79.543945</td>\n",
       "      <td>489999</td>\n",
       "      <td></td>\n",
       "      <td>0</td>\n",
       "      <td>1</td>\n",
       "      <td>0</td>\n",
       "      <td>0</td>\n",
       "      <td>0</td>\n",
       "      <td>0</td>\n",
       "    </tr>\n",
       "    <tr>\n",
       "      <th>...</th>\n",
       "      <td>...</td>\n",
       "      <td>...</td>\n",
       "      <td>...</td>\n",
       "      <td>...</td>\n",
       "      <td>...</td>\n",
       "      <td>...</td>\n",
       "      <td>...</td>\n",
       "      <td>...</td>\n",
       "      <td>...</td>\n",
       "      <td>...</td>\n",
       "      <td>...</td>\n",
       "      <td>...</td>\n",
       "      <td>...</td>\n",
       "    </tr>\n",
       "    <tr>\n",
       "      <th>610</th>\n",
       "      <td>610.0</td>\n",
       "      <td>2.0</td>\n",
       "      <td>4</td>\n",
       "      <td>43.655865</td>\n",
       "      <td>-79.570600</td>\n",
       "      <td>639900</td>\n",
       "      <td></td>\n",
       "      <td>0</td>\n",
       "      <td>1</td>\n",
       "      <td>0</td>\n",
       "      <td>0</td>\n",
       "      <td>0</td>\n",
       "      <td>0</td>\n",
       "    </tr>\n",
       "    <tr>\n",
       "      <th>611</th>\n",
       "      <td>611.0</td>\n",
       "      <td>2.0</td>\n",
       "      <td>3</td>\n",
       "      <td>43.641720</td>\n",
       "      <td>-79.381500</td>\n",
       "      <td>909000</td>\n",
       "      <td></td>\n",
       "      <td>0</td>\n",
       "      <td>1</td>\n",
       "      <td>0</td>\n",
       "      <td>0</td>\n",
       "      <td>0</td>\n",
       "      <td>0</td>\n",
       "    </tr>\n",
       "    <tr>\n",
       "      <th>612</th>\n",
       "      <td>612.0</td>\n",
       "      <td>2.0</td>\n",
       "      <td>3</td>\n",
       "      <td>43.703022</td>\n",
       "      <td>-79.395820</td>\n",
       "      <td>899000</td>\n",
       "      <td></td>\n",
       "      <td>0</td>\n",
       "      <td>1</td>\n",
       "      <td>0</td>\n",
       "      <td>0</td>\n",
       "      <td>0</td>\n",
       "      <td>0</td>\n",
       "    </tr>\n",
       "    <tr>\n",
       "      <th>613</th>\n",
       "      <td>613.0</td>\n",
       "      <td>2.0</td>\n",
       "      <td>2</td>\n",
       "      <td>43.646015</td>\n",
       "      <td>-79.394066</td>\n",
       "      <td>739999</td>\n",
       "      <td></td>\n",
       "      <td>0</td>\n",
       "      <td>1</td>\n",
       "      <td>0</td>\n",
       "      <td>0</td>\n",
       "      <td>0</td>\n",
       "      <td>0</td>\n",
       "    </tr>\n",
       "    <tr>\n",
       "      <th>614</th>\n",
       "      <td>614.0</td>\n",
       "      <td>2.0</td>\n",
       "      <td>4</td>\n",
       "      <td>43.614063</td>\n",
       "      <td>-79.495360</td>\n",
       "      <td>1075000</td>\n",
       "      <td>5337.5</td>\n",
       "      <td>0</td>\n",
       "      <td>0</td>\n",
       "      <td>0</td>\n",
       "      <td>0</td>\n",
       "      <td>1</td>\n",
       "      <td>0</td>\n",
       "    </tr>\n",
       "  </tbody>\n",
       "</table>\n",
       "<p>615 rows × 13 columns</p>\n",
       "</div>"
      ],
      "text/plain": [
       "            bathrooms bedrooms   latitude  longitude    price lotAreaValue  \\\n",
       "0      0.0        7.0        7  43.685574 -79.448690  1849000    2506.2539   \n",
       "1      1.0        1.0        1  43.618538 -79.485100   585000                \n",
       "2      2.0        1.0        2  43.630337 -79.472730   794500                \n",
       "3      3.0        3.0        3  43.644554 -79.421234  3799000      2343.75   \n",
       "4      4.0        2.0        3  43.722080 -79.543945   489999                \n",
       "..     ...        ...      ...        ...        ...      ...          ...   \n",
       "610  610.0        2.0        4  43.655865 -79.570600   639900                \n",
       "611  611.0        2.0        3  43.641720 -79.381500   909000                \n",
       "612  612.0        2.0        3  43.703022 -79.395820   899000                \n",
       "613  613.0        2.0        2  43.646015 -79.394066   739999                \n",
       "614  614.0        2.0        4  43.614063 -79.495360  1075000       5337.5   \n",
       "\n",
       "     isApartment  isCondo  isLot  isMultiFamily  isSingleFamily  isTownHouse  \n",
       "0              0        0      0              0               1            0  \n",
       "1              0        1      0              0               0            0  \n",
       "2              0        1      0              0               0            0  \n",
       "3              0        0      0              0               1            0  \n",
       "4              0        1      0              0               0            0  \n",
       "..           ...      ...    ...            ...             ...          ...  \n",
       "610            0        1      0              0               0            0  \n",
       "611            0        1      0              0               0            0  \n",
       "612            0        1      0              0               0            0  \n",
       "613            0        1      0              0               0            0  \n",
       "614            0        0      0              0               1            0  \n",
       "\n",
       "[615 rows x 13 columns]"
      ]
     },
     "execution_count": 488,
     "metadata": {},
     "output_type": "execute_result"
    }
   ],
   "source": [
    "table = one_hot_encoded_data.rename(columns={'hometype_APARTMENT': 'isApartment', 'hometype_CONDO': 'isCondo', 'hometype_LOT': 'isLot',\n",
    "                                    'hometype_MULTI_FAMILY': 'isMultiFamily', 'hometype_SINGLE_FAMILY': 'isSingleFamily', 'hometype_TOWNHOUSE': 'isTownHouse'})\n",
    "table = table.dropna()\n",
    "table"
   ]
  },
  {
   "cell_type": "markdown",
   "id": "fd75d076",
   "metadata": {},
   "source": [
    "### Selecting the Columns That Will Be Used To Fit The Models"
   ]
  },
  {
   "cell_type": "code",
   "execution_count": 489,
   "id": "fcc4f309",
   "metadata": {},
   "outputs": [
    {
     "data": {
      "text/html": [
       "<div>\n",
       "<style scoped>\n",
       "    .dataframe tbody tr th:only-of-type {\n",
       "        vertical-align: middle;\n",
       "    }\n",
       "\n",
       "    .dataframe tbody tr th {\n",
       "        vertical-align: top;\n",
       "    }\n",
       "\n",
       "    .dataframe thead th {\n",
       "        text-align: right;\n",
       "    }\n",
       "</style>\n",
       "<table border=\"1\" class=\"dataframe\">\n",
       "  <thead>\n",
       "    <tr style=\"text-align: right;\">\n",
       "      <th></th>\n",
       "      <th>bathrooms</th>\n",
       "      <th>bedrooms</th>\n",
       "      <th>latitude</th>\n",
       "      <th>longitude</th>\n",
       "      <th>isApartment</th>\n",
       "      <th>isCondo</th>\n",
       "      <th>isLot</th>\n",
       "      <th>isMultiFamily</th>\n",
       "      <th>isSingleFamily</th>\n",
       "      <th>isTownHouse</th>\n",
       "      <th>price</th>\n",
       "    </tr>\n",
       "  </thead>\n",
       "  <tbody>\n",
       "    <tr>\n",
       "      <th>0</th>\n",
       "      <td>7.0</td>\n",
       "      <td>7</td>\n",
       "      <td>43.685574</td>\n",
       "      <td>-79.448690</td>\n",
       "      <td>0</td>\n",
       "      <td>0</td>\n",
       "      <td>0</td>\n",
       "      <td>0</td>\n",
       "      <td>1</td>\n",
       "      <td>0</td>\n",
       "      <td>1849000</td>\n",
       "    </tr>\n",
       "    <tr>\n",
       "      <th>1</th>\n",
       "      <td>1.0</td>\n",
       "      <td>1</td>\n",
       "      <td>43.618538</td>\n",
       "      <td>-79.485100</td>\n",
       "      <td>0</td>\n",
       "      <td>1</td>\n",
       "      <td>0</td>\n",
       "      <td>0</td>\n",
       "      <td>0</td>\n",
       "      <td>0</td>\n",
       "      <td>585000</td>\n",
       "    </tr>\n",
       "    <tr>\n",
       "      <th>2</th>\n",
       "      <td>1.0</td>\n",
       "      <td>2</td>\n",
       "      <td>43.630337</td>\n",
       "      <td>-79.472730</td>\n",
       "      <td>0</td>\n",
       "      <td>1</td>\n",
       "      <td>0</td>\n",
       "      <td>0</td>\n",
       "      <td>0</td>\n",
       "      <td>0</td>\n",
       "      <td>794500</td>\n",
       "    </tr>\n",
       "    <tr>\n",
       "      <th>3</th>\n",
       "      <td>3.0</td>\n",
       "      <td>3</td>\n",
       "      <td>43.644554</td>\n",
       "      <td>-79.421234</td>\n",
       "      <td>0</td>\n",
       "      <td>0</td>\n",
       "      <td>0</td>\n",
       "      <td>0</td>\n",
       "      <td>1</td>\n",
       "      <td>0</td>\n",
       "      <td>3799000</td>\n",
       "    </tr>\n",
       "    <tr>\n",
       "      <th>4</th>\n",
       "      <td>2.0</td>\n",
       "      <td>3</td>\n",
       "      <td>43.722080</td>\n",
       "      <td>-79.543945</td>\n",
       "      <td>0</td>\n",
       "      <td>1</td>\n",
       "      <td>0</td>\n",
       "      <td>0</td>\n",
       "      <td>0</td>\n",
       "      <td>0</td>\n",
       "      <td>489999</td>\n",
       "    </tr>\n",
       "    <tr>\n",
       "      <th>...</th>\n",
       "      <td>...</td>\n",
       "      <td>...</td>\n",
       "      <td>...</td>\n",
       "      <td>...</td>\n",
       "      <td>...</td>\n",
       "      <td>...</td>\n",
       "      <td>...</td>\n",
       "      <td>...</td>\n",
       "      <td>...</td>\n",
       "      <td>...</td>\n",
       "      <td>...</td>\n",
       "    </tr>\n",
       "    <tr>\n",
       "      <th>610</th>\n",
       "      <td>2.0</td>\n",
       "      <td>4</td>\n",
       "      <td>43.655865</td>\n",
       "      <td>-79.570600</td>\n",
       "      <td>0</td>\n",
       "      <td>1</td>\n",
       "      <td>0</td>\n",
       "      <td>0</td>\n",
       "      <td>0</td>\n",
       "      <td>0</td>\n",
       "      <td>639900</td>\n",
       "    </tr>\n",
       "    <tr>\n",
       "      <th>611</th>\n",
       "      <td>2.0</td>\n",
       "      <td>3</td>\n",
       "      <td>43.641720</td>\n",
       "      <td>-79.381500</td>\n",
       "      <td>0</td>\n",
       "      <td>1</td>\n",
       "      <td>0</td>\n",
       "      <td>0</td>\n",
       "      <td>0</td>\n",
       "      <td>0</td>\n",
       "      <td>909000</td>\n",
       "    </tr>\n",
       "    <tr>\n",
       "      <th>612</th>\n",
       "      <td>2.0</td>\n",
       "      <td>3</td>\n",
       "      <td>43.703022</td>\n",
       "      <td>-79.395820</td>\n",
       "      <td>0</td>\n",
       "      <td>1</td>\n",
       "      <td>0</td>\n",
       "      <td>0</td>\n",
       "      <td>0</td>\n",
       "      <td>0</td>\n",
       "      <td>899000</td>\n",
       "    </tr>\n",
       "    <tr>\n",
       "      <th>613</th>\n",
       "      <td>2.0</td>\n",
       "      <td>2</td>\n",
       "      <td>43.646015</td>\n",
       "      <td>-79.394066</td>\n",
       "      <td>0</td>\n",
       "      <td>1</td>\n",
       "      <td>0</td>\n",
       "      <td>0</td>\n",
       "      <td>0</td>\n",
       "      <td>0</td>\n",
       "      <td>739999</td>\n",
       "    </tr>\n",
       "    <tr>\n",
       "      <th>614</th>\n",
       "      <td>2.0</td>\n",
       "      <td>4</td>\n",
       "      <td>43.614063</td>\n",
       "      <td>-79.495360</td>\n",
       "      <td>0</td>\n",
       "      <td>0</td>\n",
       "      <td>0</td>\n",
       "      <td>0</td>\n",
       "      <td>1</td>\n",
       "      <td>0</td>\n",
       "      <td>1075000</td>\n",
       "    </tr>\n",
       "  </tbody>\n",
       "</table>\n",
       "<p>615 rows × 11 columns</p>\n",
       "</div>"
      ],
      "text/plain": [
       "     bathrooms bedrooms   latitude  longitude  isApartment  isCondo  isLot  \\\n",
       "0          7.0        7  43.685574 -79.448690            0        0      0   \n",
       "1          1.0        1  43.618538 -79.485100            0        1      0   \n",
       "2          1.0        2  43.630337 -79.472730            0        1      0   \n",
       "3          3.0        3  43.644554 -79.421234            0        0      0   \n",
       "4          2.0        3  43.722080 -79.543945            0        1      0   \n",
       "..         ...      ...        ...        ...          ...      ...    ...   \n",
       "610        2.0        4  43.655865 -79.570600            0        1      0   \n",
       "611        2.0        3  43.641720 -79.381500            0        1      0   \n",
       "612        2.0        3  43.703022 -79.395820            0        1      0   \n",
       "613        2.0        2  43.646015 -79.394066            0        1      0   \n",
       "614        2.0        4  43.614063 -79.495360            0        0      0   \n",
       "\n",
       "     isMultiFamily  isSingleFamily  isTownHouse    price  \n",
       "0                0               1            0  1849000  \n",
       "1                0               0            0   585000  \n",
       "2                0               0            0   794500  \n",
       "3                0               1            0  3799000  \n",
       "4                0               0            0   489999  \n",
       "..             ...             ...          ...      ...  \n",
       "610              0               0            0   639900  \n",
       "611              0               0            0   909000  \n",
       "612              0               0            0   899000  \n",
       "613              0               0            0   739999  \n",
       "614              0               1            0  1075000  \n",
       "\n",
       "[615 rows x 11 columns]"
      ]
     },
     "execution_count": 489,
     "metadata": {},
     "output_type": "execute_result"
    }
   ],
   "source": [
    "table = table[['bathrooms', 'bedrooms', 'latitude', 'longitude', 'isApartment', 'isCondo', 'isLot', 'isMultiFamily', 'isSingleFamily', 'isTownHouse', 'price']]\n",
    "table"
   ]
  },
  {
   "cell_type": "code",
   "execution_count": 490,
   "id": "713114b3",
   "metadata": {},
   "outputs": [
    {
     "data": {
      "text/plain": [
       "12288000"
      ]
     },
     "execution_count": 490,
     "metadata": {},
     "output_type": "execute_result"
    }
   ],
   "source": [
    "table['price'].max()"
   ]
  },
  {
   "cell_type": "markdown",
   "id": "159721a4",
   "metadata": {},
   "source": [
    "### Dropping Incompelete Data Points"
   ]
  },
  {
   "cell_type": "code",
   "execution_count": 491,
   "id": "3611d12c-6c89-4006-9a32-49d40de938bc",
   "metadata": {
    "scrolled": true
   },
   "outputs": [
    {
     "name": "stderr",
     "output_type": "stream",
     "text": [
      "C:\\Users\\admin\\AppData\\Local\\Temp\\ipykernel_24396\\518583155.py:1: SettingWithCopyWarning: \n",
      "A value is trying to be set on a copy of a slice from a DataFrame\n",
      "\n",
      "See the caveats in the documentation: https://pandas.pydata.org/pandas-docs/stable/user_guide/indexing.html#returning-a-view-versus-a-copy\n",
      "  table.drop(index=[165, 260, 381, 426, 607], axis=0, inplace=True)\n"
     ]
    }
   ],
   "source": [
    "table.drop(index=[165, 260, 381, 426, 607], axis=0, inplace=True)"
   ]
  },
  {
   "cell_type": "code",
   "execution_count": 492,
   "id": "ee95031c-2f0e-4272-b036-a8da7a0de4c2",
   "metadata": {},
   "outputs": [
    {
     "data": {
      "text/plain": [
       "(610, 11)"
      ]
     },
     "execution_count": 492,
     "metadata": {},
     "output_type": "execute_result"
    }
   ],
   "source": [
    "table.shape"
   ]
  },
  {
   "cell_type": "code",
   "execution_count": 493,
   "id": "2a03c74f-f00d-4062-8c0c-7e1d8aa70986",
   "metadata": {},
   "outputs": [
    {
     "name": "stderr",
     "output_type": "stream",
     "text": [
      "C:\\Users\\admin\\AppData\\Local\\Temp\\ipykernel_24396\\2291959289.py:1: SettingWithCopyWarning: \n",
      "A value is trying to be set on a copy of a slice from a DataFrame.\n",
      "Try using .loc[row_indexer,col_indexer] = value instead\n",
      "\n",
      "See the caveats in the documentation: https://pandas.pydata.org/pandas-docs/stable/user_guide/indexing.html#returning-a-view-versus-a-copy\n",
      "  table['bedrooms'] = pd.to_numeric(table['bedrooms'])\n"
     ]
    }
   ],
   "source": [
    "table['bedrooms'] = pd.to_numeric(table['bedrooms'])"
   ]
  },
  {
   "cell_type": "code",
   "execution_count": 494,
   "id": "f629c243-b819-42ed-8221-699375ea7c5d",
   "metadata": {},
   "outputs": [
    {
     "data": {
      "text/plain": [
       "(610, 10)"
      ]
     },
     "execution_count": 494,
     "metadata": {},
     "output_type": "execute_result"
    }
   ],
   "source": [
    "X = table.to_numpy()[:, 0:10]\n",
    "Y = table['price']\n",
    "X.shape"
   ]
  },
  {
   "cell_type": "code",
   "execution_count": 495,
   "id": "1387c02b-92ef-4c24-9e57-ef8b4660a4ed",
   "metadata": {
    "scrolled": true
   },
   "outputs": [
    {
     "data": {
      "image/png": "[encoded data removed]",
      "text/plain": [
       "<Figure size 640x480 with 1 Axes>"
      ]
     },
     "metadata": {},
     "output_type": "display_data"
    }
   ],
   "source": [
    "plt.scatter(X[:,0], Y);\n",
    "plt.xlabel(\"Bathrooms\");\n",
    "plt.ylabel(\"Price\");\n",
    "plt.title(\"# of Bathrooms V.S. Housing Price\");"
   ]
  },
  {
   "cell_type": "code",
   "execution_count": 496,
   "id": "de986c38-df42-442e-8fd8-063fef2e065f",
   "metadata": {
    "scrolled": true
   },
   "outputs": [
    {
     "data": {
      "image/png": "[encoded data removed]",
      "text/plain": [
       "<Figure size 640x480 with 1 Axes>"
      ]
     },
     "metadata": {},
     "output_type": "display_data"
    }
   ],
   "source": [
    "plt.scatter(X[:, 1:2], Y);\n",
    "plt.xlabel(\"Bedrooms\");\n",
    "plt.ylabel(\"Price\");\n",
    "plt.title(\"# of Bedrooms V.S. Housing Price\");"
   ]
  },
  {
   "cell_type": "markdown",
   "id": "073cdc7a",
   "metadata": {},
   "source": [
    "# Linear Regression"
   ]
  },
  {
   "cell_type": "markdown",
   "id": "127899aa",
   "metadata": {},
   "source": [
    "### Training And Fitting The Data To The Linear Regression Model"
   ]
  },
  {
   "cell_type": "code",
   "execution_count": 497,
   "id": "6af5de04-5410-449f-90a3-f0907855b568",
   "metadata": {},
   "outputs": [],
   "source": [
    "X_train, X_test, y_train, y_test = train_test_split(X, Y, test_size=0.3, random_state=0)"
   ]
  },
  {
   "cell_type": "code",
   "execution_count": 498,
   "id": "b9df1aaf-7e4c-4033-9745-5c61d86bffdb",
   "metadata": {},
   "outputs": [
    {
     "data": {
      "text/html": [
       "<style>#sk-container-id-20 {color: black;}#sk-container-id-20 pre{padding: 0;}#sk-container-id-20 div.sk-toggleable {background-color: white;}#sk-container-id-20 label.sk-toggleable__label {cursor: pointer;display: block;width: 100%;margin-bottom: 0;padding: 0.3em;box-sizing: border-box;text-align: center;}#sk-container-id-20 label.sk-toggleable__label-arrow:before {content: \"▸\";float: left;margin-right: 0.25em;color: #696969;}#sk-container-id-20 label.sk-toggleable__label-arrow:hover:before {color: black;}#sk-container-id-20 div.sk-estimator:hover label.sk-toggleable__label-arrow:before {color: black;}#sk-container-id-20 div.sk-toggleable__content {max-height: 0;max-width: 0;overflow: hidden;text-align: left;background-color: #f0f8ff;}#sk-container-id-20 div.sk-toggleable__content pre {margin: 0.2em;color: black;border-radius: 0.25em;background-color: #f0f8ff;}#sk-container-id-20 input.sk-toggleable__control:checked~div.sk-toggleable__content {max-height: 200px;max-width: 100%;overflow: auto;}#sk-container-id-20 input.sk-toggleable__control:checked~label.sk-toggleable__label-arrow:before {content: \"▾\";}#sk-container-id-20 div.sk-estimator input.sk-toggleable__control:checked~label.sk-toggleable__label {background-color: #d4ebff;}#sk-container-id-20 div.sk-label input.sk-toggleable__control:checked~label.sk-toggleable__label {background-color: #d4ebff;}#sk-container-id-20 input.sk-hidden--visually {border: 0;clip: rect(1px 1px 1px 1px);clip: rect(1px, 1px, 1px, 1px);height: 1px;margin: -1px;overflow: hidden;padding: 0;position: absolute;width: 1px;}#sk-container-id-20 div.sk-estimator {font-family: monospace;background-color: #f0f8ff;border: 1px dotted black;border-radius: 0.25em;box-sizing: border-box;margin-bottom: 0.5em;}#sk-container-id-20 div.sk-estimator:hover {background-color: #d4ebff;}#sk-container-id-20 div.sk-parallel-item::after {content: \"\";width: 100%;border-bottom: 1px solid gray;flex-grow: 1;}#sk-container-id-20 div.sk-label:hover label.sk-toggleable__label {background-color: #d4ebff;}#sk-container-id-20 div.sk-serial::before {content: \"\";position: absolute;border-left: 1px solid gray;box-sizing: border-box;top: 0;bottom: 0;left: 50%;z-index: 0;}#sk-container-id-20 div.sk-serial {display: flex;flex-direction: column;align-items: center;background-color: white;padding-right: 0.2em;padding-left: 0.2em;position: relative;}#sk-container-id-20 div.sk-item {position: relative;z-index: 1;}#sk-container-id-20 div.sk-parallel {display: flex;align-items: stretch;justify-content: center;background-color: white;position: relative;}#sk-container-id-20 div.sk-item::before, #sk-container-id-20 div.sk-parallel-item::before {content: \"\";position: absolute;border-left: 1px solid gray;box-sizing: border-box;top: 0;bottom: 0;left: 50%;z-index: -1;}#sk-container-id-20 div.sk-parallel-item {display: flex;flex-direction: column;z-index: 1;position: relative;background-color: white;}#sk-container-id-20 div.sk-parallel-item:first-child::after {align-self: flex-end;width: 50%;}#sk-container-id-20 div.sk-parallel-item:last-child::after {align-self: flex-start;width: 50%;}#sk-container-id-20 div.sk-parallel-item:only-child::after {width: 0;}#sk-container-id-20 div.sk-dashed-wrapped {border: 1px dashed gray;margin: 0 0.4em 0.5em 0.4em;box-sizing: border-box;padding-bottom: 0.4em;background-color: white;}#sk-container-id-20 div.sk-label label {font-family: monospace;font-weight: bold;display: inline-block;line-height: 1.2em;}#sk-container-id-20 div.sk-label-container {text-align: center;}#sk-container-id-20 div.sk-container {/* jupyter's `normalize.less` sets `[hidden] { display: none; }` but bootstrap.min.css set `[hidden] { display: none !important; }` so we also need the `!important` here to be able to override the default hidden behavior on the sphinx rendered scikit-learn.org. See: https://github.com/scikit-learn/scikit-learn/issues/21755 */display: inline-block !important;position: relative;}#sk-container-id-20 div.sk-text-repr-fallback {display: none;}</style><div id=\"sk-container-id-20\" class=\"sk-top-container\"><div class=\"sk-text-repr-fallback\"><pre>LinearRegression()</pre><b>In a Jupyter environment, please rerun this cell to show the HTML representation or trust the notebook. <br />On GitHub, the HTML representation is unable to render, please try loading this page with nbviewer.org.</b></div><div class=\"sk-container\" hidden><div class=\"sk-item\"><div class=\"sk-estimator sk-toggleable\"><input class=\"sk-toggleable__control sk-hidden--visually\" id=\"sk-estimator-id-20\" type=\"checkbox\" checked><label for=\"sk-estimator-id-20\" class=\"sk-toggleable__label sk-toggleable__label-arrow\">LinearRegression</label><div class=\"sk-toggleable__content\"><pre>LinearRegression()</pre></div></div></div></div></div>"
      ],
      "text/plain": [
       "LinearRegression()"
      ]
     },
     "execution_count": 498,
     "metadata": {},
     "output_type": "execute_result"
    }
   ],
   "source": [
    "reg = LinearRegression()\n",
    "reg.fit(X_train, y_train)"
   ]
  },
  {
   "cell_type": "markdown",
   "id": "cb22332b",
   "metadata": {},
   "source": [
    "### Predicting The Test Set And Evaluating The Model"
   ]
  },
  {
   "cell_type": "code",
   "execution_count": 499,
   "id": "41e9bbb8-d70c-4944-9bb6-e43e2efd0a29",
   "metadata": {},
   "outputs": [
    {
     "data": {
      "text/plain": [
       "array([5037274.73803659,  447314.83769739,  526910.12901814,\n",
       "        823386.84799522,  233848.36893821, 1032343.69682249,\n",
       "       2115263.70872338,  357927.22468607,  543696.46021046,\n",
       "       2139643.59305699, 1259864.0339601 , 1297389.34013972,\n",
       "       3223413.67565997,  569443.43567178, 1205322.15349329,\n",
       "       1830228.50107099, 1041126.22860789, 2175133.42017721,\n",
       "       1499387.89002366, 1362733.7344683 , 1804765.53194822,\n",
       "       1080979.97994372, 1215117.03927439,  583040.28839666,\n",
       "        482533.85631755,  779761.24247797, 2381702.62744655,\n",
       "       2147662.04785028,  381157.7269045 , 1181647.5294295 ,\n",
       "       1290575.56135766,  195468.22431903, 1850945.55192836,\n",
       "        861539.80416141,  842535.99661931, 1858699.39243256,\n",
       "        673296.68258156,  352090.74750093, 2581771.63957816,\n",
       "        465450.09615639,  960051.28866926,  841519.12533991,\n",
       "       1903058.79168677, 2609712.5441284 , 1197146.60298131,\n",
       "        540542.24854921,  364615.10708927,  897007.66094856,\n",
       "        662480.82551612, 4254804.06389658,  876190.28629136,\n",
       "        167456.99814896, 2709388.42374863,  330824.98283453,\n",
       "        548993.46819396,  455589.36403601,  473237.6126844 ,\n",
       "        421871.28179076, 1680228.44420293, 2292174.00934806,\n",
       "       1174602.75552282,  644105.76595563, 1065509.37969236,\n",
       "        143723.67459345,  631665.65149765,  216925.21875   ,\n",
       "        528409.92285831, 1050598.78374127,  175664.13268815,\n",
       "       1342694.35202336, 1602326.28696398,  564026.82551759,\n",
       "       1092223.03711356, 1797898.34607823,  528783.19994308,\n",
       "       2004916.02259521, 1109331.58830525, 1270109.03663047,\n",
       "       2685167.35646889, 2751612.28316568,  539029.71301664,\n",
       "       1197029.56842914,  181069.23334886, 1041126.22860789,\n",
       "        764295.36976279, 1971209.3499485 , 1413206.83587947,\n",
       "        606096.98399869,  235811.186811  ,  380927.62418823,\n",
       "       1219244.14675093, 1544900.78757638, 1192412.51502414,\n",
       "        896601.32365951, 1248588.04335494, 2306217.78604442,\n",
       "        448107.50662713, 1327272.86651994,  138254.92285153,\n",
       "        579535.33343133,  716096.88180235, 1094805.11570282,\n",
       "       1122842.99900717,  841803.20217624, 2021764.29494967,\n",
       "        825039.64000785,  945175.13076697,  261606.20879117,\n",
       "       2250486.95705263, 1898083.54530697, 1218136.60302518,\n",
       "        728812.09733728, 1226582.28078465,  796438.87749061,\n",
       "        510904.38908784,  179800.55060159, 2629193.03459443,\n",
       "       1542740.72383361,  384402.71327041, 5283865.78157707,\n",
       "        958693.52154534,  615069.67567079,  623126.73360734,\n",
       "       1022709.79784152, 1730269.71825559, 1997445.18412831,\n",
       "        807661.15743013, 1697538.30871223, 1049151.54328927,\n",
       "       1780493.21746454, 1250053.26479195,  587003.78145553,\n",
       "        162999.72304617, 1194389.39369385,  556458.78468423,\n",
       "        612656.82995482, 1702370.84329811,  929064.56044471,\n",
       "       1722256.73847935,  502062.64201117,  492975.00754735,\n",
       "        902514.35772836,  964719.12047574, 1127233.20019537,\n",
       "       5024676.92148519,  827823.26923883, 1564568.18663211,\n",
       "       1327583.75196795, 1123531.15063396, 2995239.95421562,\n",
       "        480648.22695714, 2426840.49231215, 2301206.0937213 ,\n",
       "       1544629.29218885, 1194685.6446975 , 1246678.90784223,\n",
       "        979031.52915078, 1059151.34086043,  616752.86963679,\n",
       "       1268920.19534265, 1176606.09960751, 4383458.53040072,\n",
       "        986794.85693736, 2251589.03863569, 1114290.92312115,\n",
       "       1729118.18339464,  277004.61728898,  488816.36400039,\n",
       "       3939062.78842665,  474121.51799606,  380927.62418823,\n",
       "       1023809.86062364,  295996.9063019 , 1132647.733969  ,\n",
       "        831525.08960877, 1156563.08264381,  501048.95856088,\n",
       "       1114879.24811678, 1379926.58592486, 1695441.59144178,\n",
       "       1038119.28693205,  514822.80218892,  214493.99898887])"
      ]
     },
     "execution_count": 499,
     "metadata": {},
     "output_type": "execute_result"
    }
   ],
   "source": [
    "y_pred_reg = reg.predict(X_test)\n",
    "y_pred_reg"
   ]
  },
  {
   "cell_type": "code",
   "execution_count": 500,
   "id": "589e84b7-64e7-4e05-83e9-566a642d8fbe",
   "metadata": {},
   "outputs": [
    {
     "name": "stdout",
     "output_type": "stream",
     "text": [
      "Explained Variance By The Model: 0.48251852452211563\n"
     ]
    }
   ],
   "source": [
    "print(\"Explained Variance By The Model:\", explained_variance_score(y_test, y_pred_reg))"
   ]
  },
  {
   "cell_type": "code",
   "execution_count": 501,
   "id": "d5597b6c",
   "metadata": {},
   "outputs": [
    {
     "name": "stdout",
     "output_type": "stream",
     "text": [
      "R2 Score: 0.4814261397449079\n"
     ]
    }
   ],
   "source": [
    "print(\"R2 Score:\", r2_score(y_test, y_pred_reg))"
   ]
  },
  {
   "cell_type": "code",
   "execution_count": 502,
   "id": "36970f7b",
   "metadata": {},
   "outputs": [
    {
     "data": {
      "image/png": "[encoded data removed]",
      "text/plain": [
       "<Figure size 640x480 with 1 Axes>"
      ]
     },
     "metadata": {},
     "output_type": "display_data"
    }
   ],
   "source": [
    "plt.scatter(X_test[:, 0], y_pred_reg);"
   ]
  },
  {
   "cell_type": "code",
   "execution_count": 503,
   "id": "d2de5878",
   "metadata": {
    "scrolled": true
   },
   "outputs": [
    {
     "data": {
      "text/plain": [
       "array([ 6.69204334e+05, -6.67130567e+04, -2.71548463e+06,  7.45641363e+04,\n",
       "       -7.93625656e+04, -2.08843637e+05,  3.49245965e-10,  6.35033150e+05,\n",
       "        7.65067523e+04, -4.23333700e+05])"
      ]
     },
     "execution_count": 503,
     "metadata": {},
     "output_type": "execute_result"
    }
   ],
   "source": [
    "reg.coef_"
   ]
  },
  {
   "cell_type": "markdown",
   "id": "897a8b24",
   "metadata": {},
   "source": [
    "### Making Predictions On Recent House Listings On Realtor"
   ]
  },
  {
   "cell_type": "markdown",
   "id": "6ffe5555",
   "metadata": {},
   "source": [
    "Making Predictions On Lower Price Listings (Apartments, Houses)"
   ]
  },
  {
   "cell_type": "code",
   "execution_count": 504,
   "id": "0ac0b25c",
   "metadata": {},
   "outputs": [
    {
     "name": "stdout",
     "output_type": "stream",
     "text": [
      "Error: 1118421.7132289708\n"
     ]
    }
   ],
   "source": [
    "#https://www.realtor.ca/real-estate/26442179/24-keegan-cres-toronto-york-university-heights\n",
    "new_house = [[2, 3, 43.752420, -79.506990, 0, 0, 0, 0, 1, 0]]\n",
    "new_pred = reg.predict(new_house)\n",
    "actual_price = 1,199,999\n",
    "error = new_pred[0] - actual_price\n",
    "print(\"Error:\", error[0])"
   ]
  },
  {
   "cell_type": "code",
   "execution_count": 505,
   "id": "5d0c8116",
   "metadata": {},
   "outputs": [
    {
     "name": "stdout",
     "output_type": "stream",
     "text": [
      "Error: 7802.437281027436\n"
     ]
    }
   ],
   "source": [
    "#https://www.realtor.ca/real-estate/26442127/911-286-main-st-toronto-east-end-danforth\n",
    "new_condo = [[1, 2, 43.68767064395922, -79.30169444801489, 1, 0, 0, 0, 1, 0]]\n",
    "condo_pred_reg = reg.predict(new_condo)\n",
    "actual_price = 619900\n",
    "error = condo_pred_reg[0] - actual_price\n",
    "print(\"Error:\", error)"
   ]
  },
  {
   "cell_type": "code",
   "execution_count": 506,
   "id": "095a069e",
   "metadata": {},
   "outputs": [
    {
     "name": "stdout",
     "output_type": "stream",
     "text": [
      "Predicted Price: 627702.4372810274\n"
     ]
    }
   ],
   "source": [
    "print(\"Predicted Price:\", condo_pred_reg[0])"
   ]
  },
  {
   "cell_type": "code",
   "execution_count": 507,
   "id": "681e1a82",
   "metadata": {},
   "outputs": [
    {
     "name": "stdout",
     "output_type": "stream",
     "text": [
      "Error: -17488.706798493862\n"
     ]
    }
   ],
   "source": [
    "#https://www.realtor.ca/real-estate/26442106/22-6-sonic-way-toronto-flemingdon-park\n",
    "new_condo1 = [[1, 2, 43.72176413078892, -79.33670866093503, 1, 0, 0, 0, 1, 0]]\n",
    "condo_pred1_reg = reg.predict(new_condo1)\n",
    "actual_price = 550000\n",
    "error = condo_pred1_reg[0] - actual_price\n",
    "print(\"Error:\", error)"
   ]
  },
  {
   "cell_type": "code",
   "execution_count": 508,
   "id": "b2dc753e",
   "metadata": {},
   "outputs": [
    {
     "name": "stdout",
     "output_type": "stream",
     "text": [
      "Predicted Price: 532511.2932015061\n"
     ]
    }
   ],
   "source": [
    "print(\"Predicted Price:\", condo_pred1_reg[0])"
   ]
  },
  {
   "cell_type": "markdown",
   "id": "3d87f1c5",
   "metadata": {},
   "source": [
    "Making Predictions On Higher Price Listings (Houses)"
   ]
  },
  {
   "cell_type": "code",
   "execution_count": 509,
   "id": "50dd0bd4",
   "metadata": {},
   "outputs": [
    {
     "name": "stdout",
     "output_type": "stream",
     "text": [
      "Error: -5993014.255680099\n"
     ]
    }
   ],
   "source": [
    "#https://www.realtor.ca/real-estate/26381619/38-salonica-rd-toronto-bridle-path-sunnybrook-york-mills\n",
    "expensive_house = [[11, 8, 43.727395026061906, -79.35498156150294, 0, 0, 0, 0, 1, 0]]\n",
    "expensive_pred_reg = reg.predict(expensive_house)\n",
    "actual_price = 12880000\n",
    "error = expensive_pred_reg[0] - actual_price\n",
    "print(\"Error:\", error)"
   ]
  },
  {
   "cell_type": "code",
   "execution_count": 510,
   "id": "a2abe5ee",
   "metadata": {},
   "outputs": [
    {
     "name": "stdout",
     "output_type": "stream",
     "text": [
      "Predicted Price: 6886985.744319901\n"
     ]
    }
   ],
   "source": [
    "print(\"Predicted Price:\", expensive_pred_reg[0])"
   ]
  },
  {
   "cell_type": "code",
   "execution_count": 511,
   "id": "61d4abbe",
   "metadata": {},
   "outputs": [
    {
     "name": "stdout",
     "output_type": "stream",
     "text": [
      "Error: -3876830.2301354855\n"
     ]
    }
   ],
   "source": [
    "#https://www.realtor.ca/real-estate/26237212/16-fifeshire-rd-toronto-st-andrew-windfields\n",
    "expensive_house1 = [[8, 5, 43.754592649734946, -79.38834095017624, 0, 0, 0, 0, 1, 0]]\n",
    "expensive1_pred_reg = reg.predict(expensive_house1)\n",
    "actual_price = 8880000\n",
    "error = expensive1_pred_reg[0] - actual_price\n",
    "print(\"Error:\", error)"
   ]
  },
  {
   "cell_type": "code",
   "execution_count": 512,
   "id": "8a029773",
   "metadata": {},
   "outputs": [
    {
     "name": "stdout",
     "output_type": "stream",
     "text": [
      "Predicted Price: 5003169.7698645145\n"
     ]
    }
   ],
   "source": [
    "print(\"Predicted Price:\", expensive1_pred_reg[0])"
   ]
  },
  {
   "cell_type": "markdown",
   "id": "3d68f5b6",
   "metadata": {},
   "source": [
    "# XGBOOST"
   ]
  },
  {
   "cell_type": "markdown",
   "id": "5b69502d",
   "metadata": {},
   "source": [
    "### Training And Fitting The Data To The XGBOOST Model"
   ]
  },
  {
   "cell_type": "code",
   "execution_count": 513,
   "id": "455e5c4f",
   "metadata": {},
   "outputs": [
    {
     "data": {
      "text/html": [
       "<style>#sk-container-id-21 {color: black;}#sk-container-id-21 pre{padding: 0;}#sk-container-id-21 div.sk-toggleable {background-color: white;}#sk-container-id-21 label.sk-toggleable__label {cursor: pointer;display: block;width: 100%;margin-bottom: 0;padding: 0.3em;box-sizing: border-box;text-align: center;}#sk-container-id-21 label.sk-toggleable__label-arrow:before {content: \"▸\";float: left;margin-right: 0.25em;color: #696969;}#sk-container-id-21 label.sk-toggleable__label-arrow:hover:before {color: black;}#sk-container-id-21 div.sk-estimator:hover label.sk-toggleable__label-arrow:before {color: black;}#sk-container-id-21 div.sk-toggleable__content {max-height: 0;max-width: 0;overflow: hidden;text-align: left;background-color: #f0f8ff;}#sk-container-id-21 div.sk-toggleable__content pre {margin: 0.2em;color: black;border-radius: 0.25em;background-color: #f0f8ff;}#sk-container-id-21 input.sk-toggleable__control:checked~div.sk-toggleable__content {max-height: 200px;max-width: 100%;overflow: auto;}#sk-container-id-21 input.sk-toggleable__control:checked~label.sk-toggleable__label-arrow:before {content: \"▾\";}#sk-container-id-21 div.sk-estimator input.sk-toggleable__control:checked~label.sk-toggleable__label {background-color: #d4ebff;}#sk-container-id-21 div.sk-label input.sk-toggleable__control:checked~label.sk-toggleable__label {background-color: #d4ebff;}#sk-container-id-21 input.sk-hidden--visually {border: 0;clip: rect(1px 1px 1px 1px);clip: rect(1px, 1px, 1px, 1px);height: 1px;margin: -1px;overflow: hidden;padding: 0;position: absolute;width: 1px;}#sk-container-id-21 div.sk-estimator {font-family: monospace;background-color: #f0f8ff;border: 1px dotted black;border-radius: 0.25em;box-sizing: border-box;margin-bottom: 0.5em;}#sk-container-id-21 div.sk-estimator:hover {background-color: #d4ebff;}#sk-container-id-21 div.sk-parallel-item::after {content: \"\";width: 100%;border-bottom: 1px solid gray;flex-grow: 1;}#sk-container-id-21 div.sk-label:hover label.sk-toggleable__label {background-color: #d4ebff;}#sk-container-id-21 div.sk-serial::before {content: \"\";position: absolute;border-left: 1px solid gray;box-sizing: border-box;top: 0;bottom: 0;left: 50%;z-index: 0;}#sk-container-id-21 div.sk-serial {display: flex;flex-direction: column;align-items: center;background-color: white;padding-right: 0.2em;padding-left: 0.2em;position: relative;}#sk-container-id-21 div.sk-item {position: relative;z-index: 1;}#sk-container-id-21 div.sk-parallel {display: flex;align-items: stretch;justify-content: center;background-color: white;position: relative;}#sk-container-id-21 div.sk-item::before, #sk-container-id-21 div.sk-parallel-item::before {content: \"\";position: absolute;border-left: 1px solid gray;box-sizing: border-box;top: 0;bottom: 0;left: 50%;z-index: -1;}#sk-container-id-21 div.sk-parallel-item {display: flex;flex-direction: column;z-index: 1;position: relative;background-color: white;}#sk-container-id-21 div.sk-parallel-item:first-child::after {align-self: flex-end;width: 50%;}#sk-container-id-21 div.sk-parallel-item:last-child::after {align-self: flex-start;width: 50%;}#sk-container-id-21 div.sk-parallel-item:only-child::after {width: 0;}#sk-container-id-21 div.sk-dashed-wrapped {border: 1px dashed gray;margin: 0 0.4em 0.5em 0.4em;box-sizing: border-box;padding-bottom: 0.4em;background-color: white;}#sk-container-id-21 div.sk-label label {font-family: monospace;font-weight: bold;display: inline-block;line-height: 1.2em;}#sk-container-id-21 div.sk-label-container {text-align: center;}#sk-container-id-21 div.sk-container {/* jupyter's `normalize.less` sets `[hidden] { display: none; }` but bootstrap.min.css set `[hidden] { display: none !important; }` so we also need the `!important` here to be able to override the default hidden behavior on the sphinx rendered scikit-learn.org. See: https://github.com/scikit-learn/scikit-learn/issues/21755 */display: inline-block !important;position: relative;}#sk-container-id-21 div.sk-text-repr-fallback {display: none;}</style><div id=\"sk-container-id-21\" class=\"sk-top-container\"><div class=\"sk-text-repr-fallback\"><pre>XGBRegressor(base_score=None, booster=None, callbacks=None,\n",
       "             colsample_bylevel=None, colsample_bynode=None,\n",
       "             colsample_bytree=None, device=None, early_stopping_rounds=None,\n",
       "             enable_categorical=False, eval_metric=None, feature_types=None,\n",
       "             gamma=None, grow_policy=None, importance_type=None,\n",
       "             interaction_constraints=None, learning_rate=None, max_bin=None,\n",
       "             max_cat_threshold=None, max_cat_to_onehot=None,\n",
       "             max_delta_step=None, max_depth=None, max_leaves=None,\n",
       "             min_child_weight=None, missing=nan, monotone_constraints=None,\n",
       "             multi_strategy=None, n_estimators=None, n_jobs=None,\n",
       "             num_parallel_tree=None, random_state=None, ...)</pre><b>In a Jupyter environment, please rerun this cell to show the HTML representation or trust the notebook. <br />On GitHub, the HTML representation is unable to render, please try loading this page with nbviewer.org.</b></div><div class=\"sk-container\" hidden><div class=\"sk-item\"><div class=\"sk-estimator sk-toggleable\"><input class=\"sk-toggleable__control sk-hidden--visually\" id=\"sk-estimator-id-21\" type=\"checkbox\" checked><label for=\"sk-estimator-id-21\" class=\"sk-toggleable__label sk-toggleable__label-arrow\">XGBRegressor</label><div class=\"sk-toggleable__content\"><pre>XGBRegressor(base_score=None, booster=None, callbacks=None,\n",
       "             colsample_bylevel=None, colsample_bynode=None,\n",
       "             colsample_bytree=None, device=None, early_stopping_rounds=None,\n",
       "             enable_categorical=False, eval_metric=None, feature_types=None,\n",
       "             gamma=None, grow_policy=None, importance_type=None,\n",
       "             interaction_constraints=None, learning_rate=None, max_bin=None,\n",
       "             max_cat_threshold=None, max_cat_to_onehot=None,\n",
       "             max_delta_step=None, max_depth=None, max_leaves=None,\n",
       "             min_child_weight=None, missing=nan, monotone_constraints=None,\n",
       "             multi_strategy=None, n_estimators=None, n_jobs=None,\n",
       "             num_parallel_tree=None, random_state=None, ...)</pre></div></div></div></div></div>"
      ],
      "text/plain": [
       "XGBRegressor(base_score=None, booster=None, callbacks=None,\n",
       "             colsample_bylevel=None, colsample_bynode=None,\n",
       "             colsample_bytree=None, device=None, early_stopping_rounds=None,\n",
       "             enable_categorical=False, eval_metric=None, feature_types=None,\n",
       "             gamma=None, grow_policy=None, importance_type=None,\n",
       "             interaction_constraints=None, learning_rate=None, max_bin=None,\n",
       "             max_cat_threshold=None, max_cat_to_onehot=None,\n",
       "             max_delta_step=None, max_depth=None, max_leaves=None,\n",
       "             min_child_weight=None, missing=nan, monotone_constraints=None,\n",
       "             multi_strategy=None, n_estimators=None, n_jobs=None,\n",
       "             num_parallel_tree=None, random_state=None, ...)"
      ]
     },
     "execution_count": 513,
     "metadata": {},
     "output_type": "execute_result"
    }
   ],
   "source": [
    "XGB = XGBRegressor()\n",
    "XGB.fit(X_train, y_train)"
   ]
  },
  {
   "cell_type": "markdown",
   "id": "5feba84a",
   "metadata": {},
   "source": [
    "### Predicting The Test Set And Evaluating The Model"
   ]
  },
  {
   "cell_type": "code",
   "execution_count": 514,
   "id": "b61b8c18",
   "metadata": {},
   "outputs": [
    {
     "data": {
      "text/plain": [
       "array([ 3760567.2 ,  1174014.  ,   672180.75,  1066214.9 ,   527768.44,\n",
       "        1068490.1 ,  1581186.8 ,   563346.  ,   887384.25,  2773647.8 ,\n",
       "        1028165.56,   886854.9 ,  2006303.4 ,  1096959.4 ,   740900.56,\n",
       "        1198034.5 ,   775884.06,  1602775.1 ,  2524848.  ,   988951.1 ,\n",
       "        2645105.  ,   989347.7 ,   741998.94,   622329.2 ,   828678.8 ,\n",
       "         630363.6 ,  2629631.2 ,   908379.7 ,   476672.16,   888496.3 ,\n",
       "        1007188.9 ,   644538.3 ,  1074830.4 ,   561767.75,   615750.7 ,\n",
       "        2348500.  ,   566975.06,   578954.44,  2311485.5 ,   786776.6 ,\n",
       "        1030887.25,   983477.7 ,  1542662.8 ,  2240730.5 ,   802206.56,\n",
       "         650287.06,   979049.5 ,   893262.75,   617424.25,  7610975.  ,\n",
       "         623561.  ,   497897.7 ,  2040376.6 ,   547593.4 ,   606729.8 ,\n",
       "        1012308.25,   582546.7 ,   770527.9 ,  1475883.2 ,  2424371.8 ,\n",
       "         764790.  ,   532828.1 ,   693853.2 ,   832198.  ,   344696.84,\n",
       "         688262.2 ,   706313.9 ,  1009963.9 ,   824067.2 ,  1408726.4 ,\n",
       "        1096576.6 ,   638610.7 ,   899283.6 ,  2049989.6 ,   727786.56,\n",
       "        2940770.8 ,  1019616.8 ,  1085906.4 ,  1879341.1 ,  2051513.6 ,\n",
       "         660628.1 ,   905522.3 ,   814702.2 ,   775884.06,   586394.3 ,\n",
       "        1323622.4 ,  1586166.1 ,   560435.8 ,   771425.7 ,   449846.47,\n",
       "         762364.2 ,  1289228.6 ,  1101629.6 ,   882907.9 ,   702749.5 ,\n",
       "        1253742.5 ,   639730.94,  1249930.  ,   716089.56,   723092.3 ,\n",
       "         671182.8 ,   853980.25,   913844.3 ,   916944.25,  1200928.5 ,\n",
       "         544850.9 ,   832571.6 ,   595659.3 ,  1069948.  ,  2533434.5 ,\n",
       "         787720.25,   625428.3 ,  1029005.9 ,   538277.  ,   591907.8 ,\n",
       "         566445.6 ,  2510992.8 ,   945738.5 ,   514332.25,  4483095.  ,\n",
       "         691567.44,   515833.34,   880537.  ,   662374.  ,  2987444.5 ,\n",
       "        2703370.5 ,  1119544.4 ,  1237232.5 ,  1021396.7 ,   895699.1 ,\n",
       "         732387.3 ,   664764.9 ,   766746.2 ,  1140953.4 ,   677582.4 ,\n",
       "         743326.25,  1175472.  ,   556031.  ,  2428116.  ,   724316.94,\n",
       "         597283.25,   614639.3 ,   592280.3 ,  1074799.2 , 10481423.  ,\n",
       "         983920.25,  1247569.8 ,  1050605.9 ,  1083884.9 ,  1806271.5 ,\n",
       "         797909.25,  1714901.8 ,  1161722.  ,  2625990.2 ,  1212212.4 ,\n",
       "        2136899.8 ,  1101721.4 ,   739159.6 ,   538280.25,  1039955.  ,\n",
       "         954205.56,  2551287.5 ,   898772.44,  2180989.5 ,  1085508.4 ,\n",
       "         867377.75,   528281.5 ,   794280.56,  3213912.8 ,   676495.8 ,\n",
       "         449846.47,   798363.44,   658738.06,   874476.8 ,   563535.06,\n",
       "        1125879.2 ,   672138.  ,   967140.  ,  2046794.4 ,  1095272.8 ,\n",
       "        1646211.6 ,  1037170.7 ,   825882.56], dtype=float32)"
      ]
     },
     "execution_count": 514,
     "metadata": {},
     "output_type": "execute_result"
    }
   ],
   "source": [
    "y_pred_XGB = XGB.predict(X_test)\n",
    "y_pred_XGB"
   ]
  },
  {
   "cell_type": "code",
   "execution_count": 515,
   "id": "738a7588",
   "metadata": {},
   "outputs": [
    {
     "name": "stdout",
     "output_type": "stream",
     "text": [
      "Explained Variance By The Model: 0.8377190104898029\n"
     ]
    }
   ],
   "source": [
    "print(\"Explained Variance By The Model:\", explained_variance_score(y_test, y_pred_XGB))"
   ]
  },
  {
   "cell_type": "code",
   "execution_count": 516,
   "id": "148ee548",
   "metadata": {},
   "outputs": [
    {
     "name": "stdout",
     "output_type": "stream",
     "text": [
      "R2 Score: 0.8372382409412408\n"
     ]
    }
   ],
   "source": [
    "print(\"R2 Score:\", r2_score(y_test, y_pred_XGB))"
   ]
  },
  {
   "cell_type": "markdown",
   "id": "7b4ed6bf",
   "metadata": {},
   "source": [
    "### Making Predictions On Recent House Listings On Realtor"
   ]
  },
  {
   "cell_type": "markdown",
   "id": "fd8ac44d",
   "metadata": {},
   "source": [
    "Making Predictions On Lower Price Listings (Apartments)"
   ]
  },
  {
   "cell_type": "code",
   "execution_count": 517,
   "id": "26b7bcf0",
   "metadata": {},
   "outputs": [
    {
     "name": "stdout",
     "output_type": "stream",
     "text": [
      "Error: -159889.1875\n"
     ]
    }
   ],
   "source": [
    "#https://www.realtor.ca/real-estate/26442179/24-keegan-cres-toronto-york-university-heights\n",
    "XGB_pred = XGB.predict(new_house)\n",
    "actual_price = 1,199,999\n",
    "error = XGB_pred[0] - 1199999\n",
    "print(\"Error:\", error)"
   ]
  },
  {
   "cell_type": "code",
   "execution_count": 518,
   "id": "c2417f77",
   "metadata": {},
   "outputs": [
    {
     "name": "stdout",
     "output_type": "stream",
     "text": [
      "Error: 2591416.25\n"
     ]
    }
   ],
   "source": [
    "#https://www.realtor.ca/real-estate/26442127/911-286-main-st-toronto-east-end-danforth\n",
    "new_condo = [[1, 2, 43.68767064395922, -79.30169444801489, 1, 0, 0, 0, 1, 0]]\n",
    "condo_pred_XGB = XGB.predict(new_condo)\n",
    "actual_price = 619900\n",
    "error = condo_pred_XGB[0] - actual_price\n",
    "print(\"Error:\", error)"
   ]
  },
  {
   "cell_type": "code",
   "execution_count": 519,
   "id": "d304449c",
   "metadata": {},
   "outputs": [
    {
     "name": "stdout",
     "output_type": "stream",
     "text": [
      "Predicted Price: 3211316.2\n"
     ]
    }
   ],
   "source": [
    "print(\"Predicted Price:\", condo_pred_XGB[0])"
   ]
  },
  {
   "cell_type": "code",
   "execution_count": 520,
   "id": "ed0339b7",
   "metadata": {},
   "outputs": [
    {
     "name": "stdout",
     "output_type": "stream",
     "text": [
      "Error: 2741167.75\n"
     ]
    }
   ],
   "source": [
    "#https://www.realtor.ca/real-estate/26442106/22-6-sonic-way-toronto-flemingdon-park\n",
    "new_condo1 = [[1, 2, 43.72176413078892, -79.33670866093503, 1, 0, 0, 0, 1, 0]]\n",
    "condo_pred1_XGB = XGB.predict(new_condo1)\n",
    "actual_price = 550000\n",
    "error = condo_pred1_XGB[0] - actual_price\n",
    "print(\"Error:\", error)"
   ]
  },
  {
   "cell_type": "markdown",
   "id": "89d66feb",
   "metadata": {},
   "source": [
    "Making Predictions On Higher Price Listings (Houses)"
   ]
  },
  {
   "cell_type": "code",
   "execution_count": 521,
   "id": "812c0502",
   "metadata": {},
   "outputs": [
    {
     "name": "stdout",
     "output_type": "stream",
     "text": [
      "Error: -4019810.0\n"
     ]
    }
   ],
   "source": [
    "#https://www.realtor.ca/real-estate/26381619/38-salonica-rd-toronto-bridle-path-sunnybrook-york-mills\n",
    "expensive_house = [[11, 8, 43.727395026061906, -79.35498156150294, 0, 0, 0, 0, 1, 0]]\n",
    "expensive_pred_XGB = XGB.predict(expensive_house)\n",
    "actual_price = 12880000\n",
    "error = expensive_pred_XGB[0] - actual_price\n",
    "print(\"Error:\", error)"
   ]
  },
  {
   "cell_type": "code",
   "execution_count": 522,
   "id": "c3fe606e",
   "metadata": {},
   "outputs": [
    {
     "name": "stdout",
     "output_type": "stream",
     "text": [
      "Predicted Price: 8860190.0\n"
     ]
    }
   ],
   "source": [
    "print(\"Predicted Price:\", expensive_pred_XGB[0])"
   ]
  },
  {
   "cell_type": "code",
   "execution_count": 523,
   "id": "0600e5aa",
   "metadata": {},
   "outputs": [
    {
     "name": "stdout",
     "output_type": "stream",
     "text": [
      "Error: 581164.0\n"
     ]
    }
   ],
   "source": [
    "#https://www.realtor.ca/real-estate/26237212/16-fifeshire-rd-toronto-st-andrew-windfields\n",
    "expensive_house1 = [[8, 5, 43.754592649734946, -79.38834095017624, 0, 0, 0, 0, 1, 0]]\n",
    "expensive1_pred_XGB = XGB.predict(expensive_house1)\n",
    "actual_price = 8880000\n",
    "error = expensive1_pred_XGB[0] - actual_price\n",
    "print(\"Error:\", error)"
   ]
  },
  {
   "cell_type": "code",
   "execution_count": 524,
   "id": "a7d8f5a1",
   "metadata": {},
   "outputs": [
    {
     "name": "stdout",
     "output_type": "stream",
     "text": [
      "Predicted Price: 9461164.0\n"
     ]
    }
   ],
   "source": [
    "print(\"Predicted Price:\", expensive1_pred_XGB[0])"
   ]
  },
  {
   "cell_type": "markdown",
   "id": "9d7870b0",
   "metadata": {},
   "source": [
    "# Summary"
   ]
  },
  {
   "cell_type": "markdown",
   "id": "9a819da3",
   "metadata": {},
   "source": [
    "Linear Regression performs better on houses with lower prices, while XGBOOST performs better on houses with higher prices"
   ]
  }
 ],
 "metadata": {
  "kernelspec": {
   "display_name": "Python 3 (ipykernel)",
   "language": "python",
   "name": "python3"
  },
  "language_info": {
   "codemirror_mode": {
    "name": "ipython",
    "version": 3
   },
   "file_extension": ".py",
   "mimetype": "text/x-python",
   "name": "python",
   "nbconvert_exporter": "python",
   "pygments_lexer": "ipython3",
   "version": "3.11.4"
  }
 },
 "nbformat": 4,
 "nbformat_minor": 5
}
